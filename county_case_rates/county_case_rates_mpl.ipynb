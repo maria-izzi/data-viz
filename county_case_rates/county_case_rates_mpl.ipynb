{
 "cells": [
  {
   "cell_type": "code",
   "execution_count": 5,
   "metadata": {},
   "outputs": [],
   "source": [
    "import ipywidgets as widgets\n",
    "from IPython.display import display\n",
    "import matplotlib.pyplot as plt\n",
    "import numpy as np\n",
    "import pandas as pd\n",
    "from ipywidgets.embed import embed_minimal_html"
   ]
  },
  {
   "cell_type": "code",
   "execution_count": 6,
   "metadata": {},
   "outputs": [
    {
     "data": {
      "text/plain": [
       "<Figure size 720x288 with 0 Axes>"
      ]
     },
     "metadata": {},
     "output_type": "display_data"
    }
   ],
   "source": [
    "df = pd.read_csv(\"county_case_Rates.csv\")\n",
    "counties = df['County Name'].unique()\n",
    "df = df.set_index(\"County Name\")\n",
    "\n",
    "x = np.array(['March','April','May'])\n",
    "fig = plt.figure(figsize=(10,4))"
   ]
  },
  {
   "cell_type": "code",
   "execution_count": 7,
   "metadata": {
    "scrolled": true
   },
   "outputs": [
    {
     "data": {
      "application/vnd.jupyter.widget-view+json": {
       "model_id": "e82b75fb8f27416f8d81eb40bee5a3be",
       "version_major": 2,
       "version_minor": 0
      },
      "text/plain": [
       "interactive(children=(Dropdown(description='County:', options=('Autauga County', 'Baldwin County', 'Barbour Co…"
      ]
     },
     "metadata": {},
     "output_type": "display_data"
    }
   ],
   "source": [
    "def update_plot(county):\n",
    "    pre_y = df.loc[county]\n",
    "    y = np.array([pre_y['March'],pre_y['April'],pre_y['May']])\n",
    "    plt.plot(x,y)\n",
    "    if(len(pd.DataFrame(pre_y).columns)>1):\n",
    "        plt.legend(pre_y['State'])\n",
    "#     plt.autoscale(enable=True, axis='both', tight=None)\n",
    "    plt.show()\n",
    "    \n",
    "county = widgets.Dropdown(\n",
    "    options=counties.tolist(),\n",
    "    description='County:',\n",
    "    disabled=False\n",
    ")\n",
    "\n",
    "widgets.interactive(update_plot, county=county)"
   ]
  }
 ],
 "metadata": {
  "kernelspec": {
   "display_name": "Python 3",
   "language": "python",
   "name": "python3"
  },
  "language_info": {
   "codemirror_mode": {
    "name": "ipython",
    "version": 3
   },
   "file_extension": ".py",
   "mimetype": "text/x-python",
   "name": "python",
   "nbconvert_exporter": "python",
   "pygments_lexer": "ipython3",
   "version": "3.8.3"
  }
 },
 "nbformat": 4,
 "nbformat_minor": 4
}
